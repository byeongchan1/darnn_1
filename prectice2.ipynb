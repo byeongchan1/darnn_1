{
  "nbformat": 4,
  "nbformat_minor": 0,
  "metadata": {
    "colab": {
      "name": "Untitled0.ipynb",
      "provenance": [],
      "collapsed_sections": [],
      "authorship_tag": "ABX9TyOO+tpQIorOu7wV57gYEuKY",
      "include_colab_link": true
    },
    "kernelspec": {
      "name": "python3",
      "display_name": "Python 3"
    },
    "language_info": {
      "name": "python"
    }
  },
  "cells": [
    {
      "cell_type": "markdown",
      "metadata": {
        "id": "view-in-github",
        "colab_type": "text"
      },
      "source": [
        "<a href=\"https://colab.research.google.com/github/byeongchan1/Adv-ALSTM/blob/master/prectice2.ipynb\" target=\"_parent\"><img src=\"https://colab.research.google.com/assets/colab-badge.svg\" alt=\"Open In Colab\"/></a>"
      ]
    },
    {
      "cell_type": "code",
      "metadata": {
        "id": "YbqTdChZm820",
        "colab": {
          "base_uri": "https://localhost:8080/"
        },
        "outputId": "3b8f3b5f-68d3-4282-ea8d-b3ed65e92920"
      },
      "source": [
        "# 모듈 import\n",
        "from datetime import datetime\n",
        "import numpy as np\n",
        "import os\n",
        "import pandas as pd\n",
        "\n",
        "from google.colab import drive\n",
        "drive.mount('/content/gdrive')\n",
        "os.chdir('/content/gdrive/MyDrive/python/python_dong/data_axis_transform1')\n",
        "\n",
        "import torch\n",
        "import torch.nn as nn\n",
        "from torch import optim\n",
        "import torch.nn.functional as F\n",
        "from torch.autograd import Variable\n",
        "\n",
        "import matplotlib.pyplot as plt\n",
        "import math\n",
        "\n",
        "\n",
        "device = torch.device(\"cuda\" if torch.cuda.is_available() else \"cpu\")\n",
        "\n"
      ],
      "execution_count": 1,
      "outputs": [
        {
          "output_type": "stream",
          "name": "stdout",
          "text": [
            "Mounted at /content/gdrive\n"
          ]
        }
      ]
    },
    {
      "cell_type": "markdown",
      "metadata": {
        "id": "3y0SHu41LLLR"
      },
      "source": [
        "# 1. 데이터 전처리"
      ]
    },
    {
      "cell_type": "code",
      "metadata": {
        "id": "zhimcfPoLO8K"
      },
      "source": [
        "# data path 지정\n",
        "raw_data_path = './Adv-ALSTM/data/stocknet-dataset/price/raw'\n",
        "\n",
        "if 'stocknet' in raw_data_path:\n",
        "    tra_date = '2014-01-02'\n",
        "    val_date = '2015-08-03'\n",
        "    tes_date = '2015-10-01'\n",
        "    end_date = '2015-12-31'\n",
        "elif 'kdd17' in raw_data_path:\n",
        "    tra_date = '2007-01-03'\n",
        "    val_date = '2015-01-02'\n",
        "    tes_date = '2016-01-04'\n",
        "    end_date = '2016-12-31'\n",
        "else:\n",
        "    print('unexpected path: %s' % raw_data_path)\n",
        "\n",
        "# os.path.isfile : 파일이 있는지 없는 지 체크\n",
        "# os.path.join(data_path, fname) : 폴더 디렉터리와 fname(stockname.csv) 붙임\n",
        "fnames = [fname for fname in os.listdir(raw_data_path) if\n",
        "            os.path.isfile(os.path.join(raw_data_path,fname))]\n",
        "\n",
        "COLUMNS_FEATURE_DATA_V1 = ['open_close_ratio', 'high_close_ratio', \n",
        "                           'low_close_ratio', 'close_lastclose_ratio', \n",
        "                           'adjclose_lastadjclose_ratio', 'close_ma5_ratio', \n",
        "                           'close_ma10_ratio', 'close_ma15_ratio', 'close_ma20_ratio', \n",
        "                           'close_ma25_ratio', 'close_ma30_ratio']\n",
        "\n",
        "ver = 'v1' # ver in ['v1', 'v2']\n",
        "if ver == 'v1':\n",
        "    COLUMNS_FEATURE = COLUMNS_FEATURE_DATA_V1"
      ],
      "execution_count": null,
      "outputs": []
    },
    {
      "cell_type": "code",
      "metadata": {
        "id": "3HwFoPkbLtaA"
      },
      "source": [
        "windows = [5,10,15,20,25,30]\n",
        "\n",
        "def preprocess(df, windows):\n",
        "   '''\n",
        "   전처리 함수 역할 : 전체 feature생성하여 df column에 추가\n",
        "   '''\n",
        "   data = df\n",
        "   data['open_close_ratio'] = data['Open'] / data['Close'] - 1\n",
        "   data['high_close_ratio'] = data['High'] / data['Close'] - 1\n",
        "   data['low_close_ratio'] = data['Low'] / data['Close'] - 1\n",
        "\n",
        "   data['close_lastclose_ratio'] = np.zeros(len(data))\n",
        "   data.loc[1:, 'close_lastclose_ratio'] = data['Close'][1:].values / data['Close'][:-1].values - 1\n",
        "\n",
        "   data['adjclose_lastadjclose_ratio'] = np.zeros(len(data))\n",
        "   data.loc[1:, 'adjclose_lastadjclose_ratio'] = data['Adj Close'][1:].values / data['Adj Close'][:-1].values - 1\n",
        "\n",
        "   for window in windows:\n",
        "      data[f'close_ma{window}_ratio'] = data['Adj Close'].rolling(window).mean()/data['Adj Close'] - 1\n",
        "   \n",
        "   data['label'] = np.append((data['Close'][1:].values > data['Close'][:-1].values)*1,0)\n",
        "\n",
        "   return data"
      ],
      "execution_count": null,
      "outputs": []
    },
    {
      "cell_type": "code",
      "metadata": {
        "id": "l99aVEg7Lu9X"
      },
      "source": [
        "feature_data_path = './Adv-ALSTM/data/stocknet-dataset/price/feature'\n",
        "\n",
        "for fname in fnames:\n",
        "   if not os.path.isfile(os.path.join(feature_data_path,fname)):\n",
        "      df_raw = pd.read_csv(os.path.join(raw_data_path,fname))\n",
        "      data = preprocess(df_raw, windows)\n",
        "\n",
        "      # 폴더 없으면 생성\n",
        "      try:\n",
        "         if not os.path.exists(feature_data_path):\n",
        "            os.makedirs(feature_data_path)\n",
        "      except OSError:\n",
        "         print ('Error: Creating directory. ' +  feature_data_path)\n",
        "\n",
        "      #csv 파일 저장\n",
        "      data.to_csv(os.path.join(feature_data_path,fname))\n",
        "\n"
      ],
      "execution_count": null,
      "outputs": []
    },
    {
      "cell_type": "markdown",
      "metadata": {
        "id": "XmCeDyzQL-f6"
      },
      "source": [
        "# train, validation, test data 나누기"
      ]
    },
    {
      "cell_type": "code",
      "metadata": {
        "id": "9nr5cL71L_Md"
      },
      "source": [
        "# learning_data = data[(data['Date'] >= tra_date) & (data['Date'] <= end_date)]\n",
        "tra_data_X = data[(data['Date'] >= tra_date) & (data['Date'] < val_date)][COLUMNS_FEATURE]\n",
        "tra_data_Y = data[(data['Date'] >= tra_date) & (data['Date'] < val_date)]['label']\n",
        "\n",
        "val_data_X = data[(data['Date'] >= val_date) & (data['Date'] < tes_date)][COLUMNS_FEATURE]\n",
        "val_data_Y = data[(data['Date'] >= val_date) & (data['Date'] < tes_date)]['label']\n",
        "\n",
        "test_data_X = data[(data['Date'] >= tes_date) & (data['Date'] <= end_date)][COLUMNS_FEATURE]\n",
        "test_data_Y = data[(data['Date'] >= tes_date) & (data['Date'] <= end_date)]['label']\n",
        "\n",
        "\n"
      ],
      "execution_count": null,
      "outputs": []
    }
  ]
}